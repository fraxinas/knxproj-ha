{
 "cells": [
  {
   "cell_type": "code",
   "execution_count": 1,
   "metadata": {},
   "outputs": [],
   "source": [
    "%load_ext autoreload\n",
    "%autoreload 2"
   ]
  },
  {
   "cell_type": "code",
   "execution_count": 2,
   "metadata": {},
   "outputs": [],
   "source": [
    "from pathlib import Path\n",
    "import logging\n",
    "from convert import main"
   ]
  },
  {
   "cell_type": "code",
   "execution_count": 3,
   "metadata": {},
   "outputs": [],
   "source": [
    "logging.basicConfig(level=logging.DEBUG)"
   ]
  },
  {
   "cell_type": "code",
   "execution_count": 4,
   "metadata": {},
   "outputs": [],
   "source": [
    "fps = \"resources/Seiersberg.knxproj\"\n",
    "hs_ga = \"3/0/8\""
   ]
  },
  {
   "cell_type": "code",
   "execution_count": 5,
   "metadata": {},
   "outputs": [
    {
     "name": "stderr",
     "output_type": "stream",
     "text": [
      "usage: knx-project-converter [-h] [-d]\n",
      "knx-project-converter: error: unrecognized arguments: --ip=127.0.0.1 --stdin=9008 --control=9006 --hb=9005 --Session.signature_scheme=\"hmac-sha256\" --Session.key=b\"6801b6ea-0c7d-4d47-b8c8-e23eb6a77947\" --shell=9007 --transport=\"tcp\" --iopub=9009 --f=/Users/mueli/Library/Jupyter/runtime/kernel-v2-26613QavYoacqqrcm.json\n"
     ]
    },
    {
     "ename": "SystemExit",
     "evalue": "2",
     "output_type": "error",
     "traceback": [
      "An exception has occurred, use %tb to see the full traceback.\n",
      "\u001b[0;31mSystemExit\u001b[0m\u001b[0;31m:\u001b[0m 2\n"
     ]
    },
    {
     "name": "stderr",
     "output_type": "stream",
     "text": [
      "/Users/mueli/Library/Caches/pypoetry/virtualenvs/knx-project-converter-HsjPQvMV-py3.11/lib/python3.11/site-packages/IPython/core/interactiveshell.py:3534: UserWarning: To exit: use 'exit', 'quit', or Ctrl-D.\n",
      "  warn(\"To exit: use 'exit', 'quit', or Ctrl-D.\", stacklevel=1)\n"
     ]
    }
   ],
   "source": [
    "main()"
   ]
  },
  {
   "cell_type": "code",
   "execution_count": 6,
   "metadata": {},
   "outputs": [
    {
     "data": {
      "text/plain": [
       "dict_keys(['info', 'communication_objects', 'topology', 'devices', 'group_addresses', 'locations'])"
      ]
     },
     "execution_count": 6,
     "metadata": {},
     "output_type": "execute_result"
    }
   ],
   "source": [
    "p.keys()"
   ]
  },
  {
   "cell_type": "code",
   "execution_count": 7,
   "metadata": {},
   "outputs": [
    {
     "data": {
      "text/plain": [
       "{'name': 'Herrensalon',\n",
       " 'identifier': 'GA-89',\n",
       " 'raw_address': 6152,\n",
       " 'address': '3/0/8',\n",
       " 'project_uid': 1535,\n",
       " 'dpt': {'main': 1, 'sub': 1},\n",
       " 'communication_object_ids': ['1.3.2/O-0_R-10000',\n",
       "  '1.3.13/O-42_R-1',\n",
       "  '1.3.13/O-0_R-11003',\n",
       "  '1.3.13/O-1_R-11012',\n",
       "  '1.3.14/O-42_R-1',\n",
       "  '1.3.14/O-0_R-11003',\n",
       "  '1.3.14/O-1_R-11012'],\n",
       " 'description': ''}"
      ]
     },
     "execution_count": 7,
     "metadata": {},
     "output_type": "execute_result"
    }
   ],
   "source": [
    "coid = p['group_addresses'][hs_ga]['communication_object_ids'][0]\n",
    "p['group_addresses'][hs_ga]"
   ]
  },
  {
   "cell_type": "code",
   "execution_count": 8,
   "metadata": {},
   "outputs": [
    {
     "data": {
      "text/plain": [
       "{'name': 'Channel A',\n",
       " 'number': 0,\n",
       " 'text': 'Kanal A',\n",
       " 'function_text': 'Schalten EIN/AUS',\n",
       " 'description': '',\n",
       " 'device_address': '1.3.2',\n",
       " 'dpts': [{'main': 1, 'sub': 1}],\n",
       " 'object_size': '1 Bit',\n",
       " 'flags': {'read': True,\n",
       "  'write': True,\n",
       "  'communication': True,\n",
       "  'update': False,\n",
       "  'read_on_init': False,\n",
       "  'transmit': False},\n",
       " 'group_address_links': ['3/0/8']}"
      ]
     },
     "execution_count": 8,
     "metadata": {},
     "output_type": "execute_result"
    }
   ],
   "source": [
    "p['communication_objects'][coid]"
   ]
  },
  {
   "cell_type": "markdown",
   "metadata": {},
   "source": [
    "# RTF handling"
   ]
  },
  {
   "cell_type": "code",
   "execution_count": 16,
   "metadata": {},
   "outputs": [],
   "source": [
    "rtf_sample = r\"{\\rtf1\\ansi\\ansicpg1252\\uc1\\htmautsp\\deff2{\\fonttbl{\\f0\\fcharset0 Times New Roman;}{\\f2\\fcharset0 Segoe UI;}}{\\colortbl\\red0\\green0\\blue0;\\red255\\green255\\blue255;}\\loch\\hich\\dbch\\pard\\plain\\ltrpar\\itap0{\\lang1033\\fs16\\f2\\cf0 \\cf0\\ql{\\f2 {\\lang3079\\ul\\ltrch TEST }{\\lang3079\\b\\ltrch COMMENT}\\li0\\ri0\\sa0\\sb0\\fi0\\ql\\par}&#xD;&#xA;}&#xD;&#xA;}\""
   ]
  },
  {
   "cell_type": "code",
   "execution_count": 22,
   "metadata": {},
   "outputs": [],
   "source": [
    "from striprtf.striprtf import rtf_to_text\n",
    "import html"
   ]
  },
  {
   "cell_type": "code",
   "execution_count": 19,
   "metadata": {},
   "outputs": [],
   "source": [
    "t = rtf_to_text(rtf_sample)"
   ]
  },
  {
   "cell_type": "code",
   "execution_count": 20,
   "metadata": {},
   "outputs": [
    {
     "name": "stdout",
     "output_type": "stream",
     "text": [
      "TEST COMMENT\n",
      "&#xD;&#xA;&#xD;&#xA;\n"
     ]
    }
   ],
   "source": [
    "print(t)"
   ]
  },
  {
   "cell_type": "code",
   "execution_count": 24,
   "metadata": {},
   "outputs": [
    {
     "name": "stdout",
     "output_type": "stream",
     "text": [
      "TEST COMMENT\n",
      "\n",
      "\n",
      "\n"
     ]
    }
   ],
   "source": [
    "print(html.unescape(t))"
   ]
  },
  {
   "cell_type": "code",
   "execution_count": null,
   "metadata": {},
   "outputs": [],
   "source": []
  }
 ],
 "metadata": {
  "kernelspec": {
   "display_name": "Python 3",
   "language": "python",
   "name": "python3"
  },
  "language_info": {
   "codemirror_mode": {
    "name": "ipython",
    "version": 3
   },
   "file_extension": ".py",
   "mimetype": "text/x-python",
   "name": "python",
   "nbconvert_exporter": "python",
   "pygments_lexer": "ipython3",
   "version": "3.11.5"
  },
  "orig_nbformat": 4
 },
 "nbformat": 4,
 "nbformat_minor": 2
}
