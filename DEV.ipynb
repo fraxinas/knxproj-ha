{
 "cells": [
  {
   "cell_type": "code",
   "execution_count": 1,
   "metadata": {},
   "outputs": [],
   "source": [
    "%load_ext autoreload\n",
    "%autoreload 2"
   ]
  },
  {
   "cell_type": "code",
   "execution_count": 2,
   "metadata": {},
   "outputs": [],
   "source": [
    "import logging\n",
    "from knxproj_ha.convert import convert, write"
   ]
  },
  {
   "cell_type": "code",
   "execution_count": 3,
   "metadata": {},
   "outputs": [],
   "source": [
    "logging.basicConfig(level=logging.DEBUG)"
   ]
  },
  {
   "cell_type": "code",
   "execution_count": 4,
   "metadata": {},
   "outputs": [],
   "source": [
    "fps = \"../xknxproject/test/resources/private.knxproj\"\n",
    "hs_ga = \"3/0/8\""
   ]
  },
  {
   "cell_type": "code",
   "execution_count": 8,
   "metadata": {},
   "outputs": [
    {
     "name": "stderr",
     "output_type": "stream",
     "text": [
      "DEBUG:knxproj_ha:Start parsing KNX project file ...\n",
      "INFO:xknxproject.log:Xknxproject version 3.2.0 parsing \"../xknxproject/test/resources/private.knxproj\" without password...\n",
      "DEBUG:xknxproject.log:Opening KNX Project file \"../xknxproject/test/resources/private.knxproj\"\n",
      "DEBUG:xknxproject.log:Namespace: http://knx.org/xml/project/22\n",
      "DEBUG:xknxproject.log:Project P-04AD is not password protected\n",
      "DEBUG:xknxproject.log:Schema version: 22\n"
     ]
    },
    {
     "name": "stderr",
     "output_type": "stream",
     "text": [
      "INFO:xknxproject.log:Parsing took 0.5362498760223389 seconds\n",
      "INFO:xknxproject.log:Found 263 group addresses, 115 devices and 646 used communication objects\n",
      "DEBUG:knxproj_ha:  ... parsing finished\n"
     ]
    }
   ],
   "source": [
    "ha_config = convert(fps)"
   ]
  },
  {
   "cell_type": "code",
   "execution_count": 9,
   "metadata": {},
   "outputs": [
    {
     "name": "stdout",
     "output_type": "stream",
     "text": [
      "light: []\n",
      "\n"
     ]
    }
   ],
   "source": [
    "write(ha_config, '')"
   ]
  },
  {
   "cell_type": "markdown",
   "metadata": {},
   "source": [
    "# RTF handling"
   ]
  },
  {
   "cell_type": "code",
   "execution_count": 16,
   "metadata": {},
   "outputs": [],
   "source": [
    "rtf_sample = r\"{\\rtf1\\ansi\\ansicpg1252\\uc1\\htmautsp\\deff2{\\fonttbl{\\f0\\fcharset0 Times New Roman;}{\\f2\\fcharset0 Segoe UI;}}{\\colortbl\\red0\\green0\\blue0;\\red255\\green255\\blue255;}\\loch\\hich\\dbch\\pard\\plain\\ltrpar\\itap0{\\lang1033\\fs16\\f2\\cf0 \\cf0\\ql{\\f2 {\\lang3079\\ul\\ltrch TEST }{\\lang3079\\b\\ltrch COMMENT}\\li0\\ri0\\sa0\\sb0\\fi0\\ql\\par}&#xD;&#xA;}&#xD;&#xA;}\""
   ]
  },
  {
   "cell_type": "code",
   "execution_count": 22,
   "metadata": {},
   "outputs": [],
   "source": [
    "from striprtf.striprtf import rtf_to_text\n",
    "import html"
   ]
  },
  {
   "cell_type": "code",
   "execution_count": 19,
   "metadata": {},
   "outputs": [],
   "source": [
    "t = rtf_to_text(rtf_sample)"
   ]
  },
  {
   "cell_type": "code",
   "execution_count": 20,
   "metadata": {},
   "outputs": [
    {
     "name": "stdout",
     "output_type": "stream",
     "text": [
      "TEST COMMENT\n",
      "&#xD;&#xA;&#xD;&#xA;\n"
     ]
    }
   ],
   "source": [
    "print(t)"
   ]
  },
  {
   "cell_type": "code",
   "execution_count": 24,
   "metadata": {},
   "outputs": [
    {
     "name": "stdout",
     "output_type": "stream",
     "text": [
      "TEST COMMENT\n",
      "\n",
      "\n",
      "\n"
     ]
    }
   ],
   "source": [
    "print(html.unescape(t))"
   ]
  },
  {
   "cell_type": "code",
   "execution_count": null,
   "metadata": {},
   "outputs": [],
   "source": []
  }
 ],
 "metadata": {
  "kernelspec": {
   "display_name": "Python 3",
   "language": "python",
   "name": "python3"
  },
  "language_info": {
   "codemirror_mode": {
    "name": "ipython",
    "version": 3
   },
   "file_extension": ".py",
   "mimetype": "text/x-python",
   "name": "python",
   "nbconvert_exporter": "python",
   "pygments_lexer": "ipython3",
   "version": "3.11.5"
  },
  "orig_nbformat": 4
 },
 "nbformat": 4,
 "nbformat_minor": 2
}
