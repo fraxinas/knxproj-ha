{
 "cells": [
  {
   "cell_type": "code",
   "execution_count": 1,
   "metadata": {},
   "outputs": [],
   "source": [
    "%load_ext autoreload\n",
    "%autoreload 2"
   ]
  },
  {
   "cell_type": "code",
   "execution_count": 2,
   "metadata": {},
   "outputs": [],
   "source": [
    "import logging\n",
    "from knxproj_ha.convert import convert, write"
   ]
  },
  {
   "cell_type": "code",
   "execution_count": 3,
   "metadata": {},
   "outputs": [],
   "source": [
    "logging.basicConfig(level=logging.DEBUG)"
   ]
  },
  {
   "cell_type": "code",
   "execution_count": 4,
   "metadata": {},
   "outputs": [],
   "source": [
    "fps = \"../xknxproject/test/resources/private.knxproj\"\n",
    "hs_ga = \"3/0/8\""
   ]
  },
  {
   "cell_type": "code",
   "execution_count": 20,
   "metadata": {},
   "outputs": [
    {
     "name": "stderr",
     "output_type": "stream",
     "text": [
      "DEBUG:knxproj_ha:Start parsing KNX project file ...\n",
      "INFO:xknxproject.log:Xknxproject version 3.2.0 parsing \"../xknxproject/test/resources/private.knxproj\" without password...\n",
      "DEBUG:xknxproject.log:Opening KNX Project file \"../xknxproject/test/resources/private.knxproj\"\n",
      "DEBUG:xknxproject.log:Namespace: http://knx.org/xml/project/22\n",
      "DEBUG:xknxproject.log:Project P-04AD is not password protected\n",
      "DEBUG:xknxproject.log:Schema version: 22\n",
      "INFO:xknxproject.log:Parsing took 0.8201150894165039 seconds\n",
      "INFO:xknxproject.log:Found 263 group addresses, 115 devices and 646 used communication objects\n",
      "DEBUG:knxproj_ha:  ... parsing finished\n",
      "DEBUG:knxproj_ha:Found device type 'light'\n",
      "DEBUG:knxproj_ha:Found device type 'light'\n",
      "DEBUG:knxproj_ha:Found device type 'light'\n",
      "DEBUG:knxproj_ha:Found device type 'light'\n",
      "DEBUG:knxproj_ha:Found device type 'light'\n",
      "DEBUG:knxproj_ha:Found device type 'light'\n",
      "DEBUG:knxproj_ha:Found device type 'light'\n",
      "DEBUG:knxproj_ha:Found device type 'light'\n"
     ]
    }
   ],
   "source": [
    "ha_config = convert(fps)"
   ]
  },
  {
   "cell_type": "code",
   "execution_count": 21,
   "metadata": {},
   "outputs": [
    {
     "name": "stdout",
     "output_type": "stream",
     "text": [
      "light:\n",
      "- address: 3/0/3\n",
      "  name: Schrankraum\n",
      "  state_address: 3/0/3\n",
      "- address: 3/0/4\n",
      "  name: WC\n",
      "  state_address: 3/0/4\n",
      "- address: 3/0/5\n",
      "  name: Wirtschaftsraum\n",
      "  state_address: 3/0/5\n",
      "- address: 3/0/6\n",
      "  name: Bad\n",
      "  state_address: 3/0/6\n",
      "- address: 3/0/8\n",
      "  name: foobar\n",
      "  state_address: 3/0/8\n",
      "- address: 3/0/9\n",
      "  name: Kinderzimmer\n",
      "  state_address: 3/0/9\n",
      "- address: 3/0/11\n",
      "  name: Dachboden\n",
      "  state_address: 3/0/11\n",
      "- address: 3/0/2\n",
      "  name: Gang\n",
      "  state_address: 3/0/2\n",
      "\n"
     ]
    }
   ],
   "source": [
    "write(ha_config, '')"
   ]
  }
 ],
 "metadata": {
  "kernelspec": {
   "display_name": "Python 3",
   "language": "python",
   "name": "python3"
  },
  "language_info": {
   "codemirror_mode": {
    "name": "ipython",
    "version": 3
   },
   "file_extension": ".py",
   "mimetype": "text/x-python",
   "name": "python",
   "nbconvert_exporter": "python",
   "pygments_lexer": "ipython3",
   "version": "3.11.5"
  },
  "orig_nbformat": 4
 },
 "nbformat": 4,
 "nbformat_minor": 2
}
